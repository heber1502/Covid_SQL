{
 "cells": [
  {
   "cell_type": "code",
   "execution_count": 1,
   "metadata": {},
   "outputs": [],
   "source": [
    "import sqlite3\n",
    "import pandas as pd\n",
    "\n"
   ]
  },
  {
   "cell_type": "code",
   "execution_count": 2,
   "metadata": {},
   "outputs": [],
   "source": [
    "con = sqlite3.connect(\"mydb.db\")"
   ]
  },
  {
   "cell_type": "code",
   "execution_count": 3,
   "metadata": {},
   "outputs": [
    {
     "data": {
      "text/plain": [
       "<sqlite3.Cursor at 0x7fb1287f2fc0>"
      ]
     },
     "execution_count": 3,
     "metadata": {},
     "output_type": "execute_result"
    }
   ],
   "source": [
    "con.execute('''CREATE TABLE person(id INT PRIMARY KEY NOT NULL, first_name VARCHAR(30) NOT NULL, last_name VARCHAR(50) NOT NULL, age INT)''')\n"
   ]
  },
  {
   "cell_type": "code",
   "execution_count": 4,
   "metadata": {},
   "outputs": [
    {
     "data": {
      "text/plain": [
       "<sqlite3.Cursor at 0x7fb128827240>"
      ]
     },
     "execution_count": 4,
     "metadata": {},
     "output_type": "execute_result"
    }
   ],
   "source": [
    "con.execute('''INSERT INTO person VALUES(1,\"Dina\",\"Perez\",50)''')\n",
    "con.execute('''INSERT INTO person VALUES(2,\"Juan\",\"Sanchez\",40)''')\n",
    "con.execute('''INSERT INTO person VALUES(3,\"Ana\",\"Lopez\",25)''')\n",
    "\n"
   ]
  },
  {
   "cell_type": "code",
   "execution_count": 5,
   "metadata": {},
   "outputs": [],
   "source": [
    "con.commit()"
   ]
  },
  {
   "cell_type": "code",
   "execution_count": 6,
   "metadata": {},
   "outputs": [
    {
     "name": "stdout",
     "output_type": "stream",
     "text": [
      "1 Dina Perez 50\n",
      "2 Juan Sanchez 40\n",
      "3 Ana Lopez 25\n"
     ]
    }
   ],
   "source": [
    "cursor = con.execute('''SELECT * FROM person''')\n",
    "for row in cursor:\n",
    "    print(f'{row[0]} {row[1]} {row[2]} {row[3]}')"
   ]
  },
  {
   "cell_type": "code",
   "execution_count": 7,
   "metadata": {},
   "outputs": [],
   "source": [
    "con.execute('''UPDATE person SET age = 48 WHERE id = 1''')\n",
    "con.commit()"
   ]
  },
  {
   "cell_type": "code",
   "execution_count": 8,
   "metadata": {},
   "outputs": [
    {
     "name": "stdout",
     "output_type": "stream",
     "text": [
      "1 Dina Perez 48\n",
      "2 Juan Sanchez 40\n",
      "3 Ana Lopez 25\n"
     ]
    }
   ],
   "source": [
    "cursor = con.execute('''SELECT * FROM person''')\n",
    "for row in cursor:\n",
    "    print(f'{row[0]} {row[1]} {row[2]} {row[3]}')"
   ]
  },
  {
   "cell_type": "code",
   "execution_count": 9,
   "metadata": {},
   "outputs": [],
   "source": [
    "con.execute('''DELETE FROM person WHERE id = 3''')\n",
    "con.commit()"
   ]
  },
  {
   "cell_type": "code",
   "execution_count": 10,
   "metadata": {},
   "outputs": [
    {
     "name": "stdout",
     "output_type": "stream",
     "text": [
      "1 Dina Perez 48\n",
      "2 Juan Sanchez 40\n"
     ]
    }
   ],
   "source": [
    "cursor = con.execute('''SELECT * FROM person''')\n",
    "for row in cursor:\n",
    "    print(f'{row[0]} {row[1]} {row[2]} {row[3]}')"
   ]
  }
 ],
 "metadata": {
  "kernelspec": {
   "display_name": ".venv",
   "language": "python",
   "name": "python3"
  },
  "language_info": {
   "codemirror_mode": {
    "name": "ipython",
    "version": 3
   },
   "file_extension": ".py",
   "mimetype": "text/x-python",
   "name": "python",
   "nbconvert_exporter": "python",
   "pygments_lexer": "ipython3",
   "version": "3.12.1"
  }
 },
 "nbformat": 4,
 "nbformat_minor": 2
}
